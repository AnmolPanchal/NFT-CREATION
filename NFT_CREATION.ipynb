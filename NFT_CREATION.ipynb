{
  "nbformat": 4,
  "nbformat_minor": 0,
  "metadata": {
    "colab": {
      "provenance": []
    },
    "kernelspec": {
      "name": "python3",
      "display_name": "Python 3"
    },
    "language_info": {
      "name": "python"
    }
  },
  "cells": [
    {
      "cell_type": "code",
      "source": [
        "# pip install cvzone"
      ],
      "metadata": {
        "id": "bvokh-mFKXlc"
      },
      "execution_count": null,
      "outputs": []
    },
    {
      "cell_type": "code",
      "execution_count": null,
      "metadata": {
        "colab": {
          "base_uri": "https://localhost:8080/"
        },
        "id": "xY0jA7YbILCo",
        "outputId": "9ae536ec-28ae-4267-83e1-39a598984306"
      },
      "outputs": [
        {
          "name": "stdout",
          "output_type": "stream",
          "text": [
            "Enter the number of NFT You WANT : ) $$  15\n"
          ]
        }
      ],
      "source": [
        "import numpy as np\n",
        "import cv2\n",
        "import random\n",
        "import cvzone\n",
        "import random_name_generator as rng\n",
        "\n",
        "# Take the input of NFT you want\n",
        "def overlay_transparent(background_img, img_to_overlay_t, x, y, overlay_size=None):\n",
        "\t\"\"\"\n",
        "\t@brief      Overlays a transparant PNG onto another image using CV2\n",
        "\t\n",
        "\t@param      background_img    The background image\n",
        "\t@param      img_to_overlay_t  The transparent image to overlay (has alpha channel)\n",
        "\t@param      x                 x location to place the top-left corner of our overlay\n",
        "\t@param      y                 y location to place the top-left corner of our overlay\n",
        "\t@param      overlay_size      The size to scale our overlay to (tuple), no scaling if None\n",
        "\t\n",
        "\t@return     Background image with overlay on top\n",
        "\t\"\"\"\n",
        "\t\n",
        "\tbg_img = background_img.copy()\n",
        "\t\n",
        "\tif overlay_size is not None:\n",
        "\t\timg_to_overlay_t = cv2.resize(img_to_overlay_t.copy(), overlay_size)\n",
        "\n",
        "\t# Extract the alpha mask of the RGBA image, convert to RGB \n",
        "\tb,g,r,a = cv2.split(img_to_overlay_t)\n",
        "\toverlay_color = cv2.merge((b,g,r))\n",
        "\t\n",
        "\t# Apply some simple filtering to remove edge noise\n",
        "\tmask = cv2.medianBlur(a,5)\n",
        "\n",
        "\th, w, _ = overlay_color.shape\n",
        "\troi = bg_img[y:y+h, x:x+w]\n",
        "\n",
        "\t# Black-out the area behind the logo in our original ROI\n",
        "\timg1_bg = cv2.bitwise_and(roi.copy(),roi.copy(),mask = cv2.bitwise_not(mask))\n",
        "\t\n",
        "\t# Mask out the logo from the logo image.\n",
        "\timg2_fg = cv2.bitwise_and(overlay_color,overlay_color,mask = mask)\n",
        "\n",
        "\t# Update the original image with our new ROI\n",
        "\tbg_img[y:y+h, x:x+w] = cv2.add(img1_bg, img2_fg)\n",
        "\n",
        "\treturn bg_img\n",
        "\n",
        "\n",
        "\n",
        "\n",
        "\n",
        "\n",
        "number_of_nft = int(input(\"Enter the number of NFT You WANT : ) $$  \"))\n",
        "\n",
        "\n",
        "\n",
        "i = 0\n",
        "while i <= number_of_nft:\n",
        "    # Add the Background\n",
        "    #bg_i = random.randint(1,11)\n",
        "    addr_bg = 'myAsset/background/bg_' + str(random.randint(1,13)) + '.png'\n",
        "    bg_img = cv2.imread(addr_bg)\n",
        "    #print(bg_img.shape)\n",
        "    body_img = cv2.imread('myAsset/body/body_'+str(random.randint(1,12))+'.png',cv2.IMREAD_UNCHANGED)\n",
        "    eye_img = cv2.imread('myAsset/eye/eye_'+str(random.randint(1,11))+'.png',cv2.IMREAD_UNCHANGED)\n",
        "    glass_img = cv2.imread('myAsset/glasses/glass_'+str(random.randint(1,11))+'.png',cv2.IMREAD_UNCHANGED)\n",
        "    nose_img = cv2.imread('myAsset/nose/nose_'+str(random.randint(1,11))+'.png',cv2.IMREAD_UNCHANGED)\n",
        "    lips_img = cv2.imread('myAsset/lips/lips_'+str(random.randint(1,11))+'.png',cv2.IMREAD_UNCHANGED)\n",
        "    shirt_img = cv2.imread('myAsset/shirt/shirt_'+str(random.randint(1,11))+'.png',cv2.IMREAD_UNCHANGED)\n",
        "    \n",
        "    step_1 = overlay_transparent(bg_img,body_img,0,0)\n",
        "    #print(step_1.shape)\n",
        "    step_2 = overlay_transparent(step_1,eye_img,0,0)\n",
        "    step_3 = overlay_transparent(step_2,glass_img,0,0)\n",
        "    step_4 = overlay_transparent(step_3,nose_img,0,0)\n",
        "    step_5 = overlay_transparent(step_4,lips_img,0,0)\n",
        "    step_6 = overlay_transparent(step_5,shirt_img,0,0)\n",
        "    #cv2.imshow('output',cv2.resize(step_6,(600,400)))\n",
        "    #cv2.waitKey(0)\n",
        "    #out = rng.generate(descent=rng.Descent.ENGLISH, sex=rng.Sex.MALE, limit=1)\n",
        "    #print(out)\n",
        "    \n",
        "    cv2.imwrite('myAsset/output/output'+str(i)+'.png',step_6)\n",
        "    i+=1"
      ]
    }
  ]
}